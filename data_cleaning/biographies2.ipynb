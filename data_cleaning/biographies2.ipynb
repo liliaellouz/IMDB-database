{
 "cells": [
  {
   "cell_type": "code",
   "execution_count": 5,
   "metadata": {},
   "outputs": [
    {
     "data": {
      "text/plain": [
       "446949"
      ]
     },
     "execution_count": 5,
     "metadata": {},
     "output_type": "execute_result"
    }
   ],
   "source": [
    "import pandas  as pd\n",
    "import numpy as np\n",
    "biographies=pd.read_csv('/Users/macbook/Desktop/BA6/Database/newfiles/biographies.csv', sep=',', error_bad_lines=False)\n",
    "\n",
    "len(biographies)"
   ]
  },
  {
   "cell_type": "code",
   "execution_count": 4,
   "metadata": {},
   "outputs": [
    {
     "data": {
      "text/html": [
       "<div>\n",
       "<style>\n",
       "    .dataframe thead tr:only-child th {\n",
       "        text-align: right;\n",
       "    }\n",
       "\n",
       "    .dataframe thead th {\n",
       "        text-align: left;\n",
       "    }\n",
       "\n",
       "    .dataframe tbody tr th {\n",
       "        vertical-align: top;\n",
       "    }\n",
       "</style>\n",
       "<table border=\"1\" class=\"dataframe\">\n",
       "  <thead>\n",
       "    <tr style=\"text-align: right;\">\n",
       "      <th></th>\n",
       "      <th>FullName</th>\n",
       "      <th>RealName</th>\n",
       "      <th>Nickname</th>\n",
       "      <th>DateAndPlaceOfBirth</th>\n",
       "      <th>Height</th>\n",
       "      <th>Biography</th>\n",
       "      <th>Biographer</th>\n",
       "      <th>DateAndCauseOfDeath</th>\n",
       "      <th>Trivia</th>\n",
       "      <th>PersonalQuotes</th>\n",
       "      <th>Salary</th>\n",
       "      <th>Trademark</th>\n",
       "      <th>WhereAreTheyNow</th>\n",
       "      <th>BioId</th>\n",
       "      <th>pid</th>\n",
       "    </tr>\n",
       "  </thead>\n",
       "  <tbody>\n",
       "    <tr>\n",
       "      <th>145546</th>\n",
       "      <td>Giles Ronald E.</td>\n",
       "      <td>Ronald Eaton Giles</td>\n",
       "      <td>Ronnie</td>\n",
       "      <td>13 November 1947 Hackensack New Jersey USA</td>\n",
       "      <td>5' 5 1/2\"</td>\n",
       "      <td>Ronald Eaton Giles was born in Hackensack New ...</td>\n",
       "      <td>Ronald E. Giles</td>\n",
       "      <td>NaN</td>\n",
       "      <td>Served in Vietnam (April 1966-April 1967) as a...</td>\n",
       "      <td>I've been in the Acting game off &amp; on since 19...</td>\n",
       "      <td>NaN</td>\n",
       "      <td>NaN</td>\n",
       "      <td>(August 2007) Completed uncredited work as a P...</td>\n",
       "      <td>145547</td>\n",
       "      <td>637476</td>\n",
       "    </tr>\n",
       "  </tbody>\n",
       "</table>\n",
       "</div>"
      ],
      "text/plain": [
       "               FullName            RealName Nickname  \\\n",
       "145546  Giles Ronald E.  Ronald Eaton Giles   Ronnie   \n",
       "\n",
       "                               DateAndPlaceOfBirth     Height  \\\n",
       "145546  13 November 1947 Hackensack New Jersey USA  5' 5 1/2\"   \n",
       "\n",
       "                                                Biography       Biographer  \\\n",
       "145546  Ronald Eaton Giles was born in Hackensack New ...  Ronald E. Giles   \n",
       "\n",
       "       DateAndCauseOfDeath                                             Trivia  \\\n",
       "145546                 NaN  Served in Vietnam (April 1966-April 1967) as a...   \n",
       "\n",
       "                                           PersonalQuotes Salary Trademark  \\\n",
       "145546  I've been in the Acting game off & on since 19...    NaN       NaN   \n",
       "\n",
       "                                          WhereAreTheyNow   BioId     pid  \n",
       "145546  (August 2007) Completed uncredited work as a P...  145547  637476  "
      ]
     },
     "execution_count": 4,
     "metadata": {},
     "output_type": "execute_result"
    }
   ],
   "source": [
    "df=biographies[biographies['WhereAreTheyNow'].str.len()>8000]\n",
    "df"
   ]
  },
  {
   "cell_type": "code",
   "execution_count": 80,
   "metadata": {
    "collapsed": true
   },
   "outputs": [],
   "source": [
    "biographies['Biography']=biographies['Biography'][:3000]\n",
    "biographies['Trivia']=biographies['Trivia'][:3000]\n",
    "biographies['PersonalQuotes']=biographies['PersonalQuotes'][:3000]\n",
    "biographies['Salary']=biographies['Salary'][:3000]\n",
    "biographies['Trademark']=biographies['Trademark'][:3000]\n",
    "biographies['WhereAreTheyNow']=biographies['WhereAreTheyNow'][:3000]"
   ]
  },
  {
   "cell_type": "code",
   "execution_count": 81,
   "metadata": {
    "collapsed": true
   },
   "outputs": [],
   "source": [
    "biographies.to_csv('biographies.csv', sep=',', encoding='utf-8', index=False)"
   ]
  },
  {
   "cell_type": "code",
   "execution_count": null,
   "metadata": {
    "collapsed": true
   },
   "outputs": [],
   "source": []
  }
 ],
 "metadata": {
  "kernelspec": {
   "display_name": "Python 3",
   "language": "python",
   "name": "python3"
  },
  "language_info": {
   "codemirror_mode": {
    "name": "ipython",
    "version": 3
   },
   "file_extension": ".py",
   "mimetype": "text/x-python",
   "name": "python",
   "nbconvert_exporter": "python",
   "pygments_lexer": "ipython3",
   "version": "3.6.1"
  }
 },
 "nbformat": 4,
 "nbformat_minor": 2
}
